{
 "cells": [
  {
   "cell_type": "markdown",
   "id": "0c6b13e5",
   "metadata": {},
   "source": [
    "## Libraries"
   ]
  },
  {
   "cell_type": "code",
   "execution_count": 78,
   "id": "833189ad",
   "metadata": {},
   "outputs": [],
   "source": [
    "import numpy as np\n",
    "import pandas as pd\n",
    "import seaborn as sns\n",
    "import matplotlib.pyplot as plt"
   ]
  },
  {
   "cell_type": "code",
   "execution_count": 79,
   "id": "8903516c",
   "metadata": {},
   "outputs": [],
   "source": [
    "import re"
   ]
  },
  {
   "cell_type": "markdown",
   "id": "98931583",
   "metadata": {},
   "source": [
    "## Read CSV"
   ]
  },
  {
   "cell_type": "code",
   "execution_count": 80,
   "id": "e2c5c803",
   "metadata": {
    "scrolled": false
   },
   "outputs": [
    {
     "data": {
      "text/html": [
       "<div>\n",
       "<style scoped>\n",
       "    .dataframe tbody tr th:only-of-type {\n",
       "        vertical-align: middle;\n",
       "    }\n",
       "\n",
       "    .dataframe tbody tr th {\n",
       "        vertical-align: top;\n",
       "    }\n",
       "\n",
       "    .dataframe thead th {\n",
       "        text-align: right;\n",
       "    }\n",
       "</style>\n",
       "<table border=\"1\" class=\"dataframe\">\n",
       "  <thead>\n",
       "    <tr style=\"text-align: right;\">\n",
       "      <th></th>\n",
       "      <th>Id</th>\n",
       "      <th>Title</th>\n",
       "      <th>Body</th>\n",
       "      <th>Tags</th>\n",
       "    </tr>\n",
       "  </thead>\n",
       "  <tbody>\n",
       "    <tr>\n",
       "      <th>0</th>\n",
       "      <td>1</td>\n",
       "      <td>How to check if an uploaded file is an image w...</td>\n",
       "      <td>&lt;p&gt;I'd like to check if an uploaded file is an...</td>\n",
       "      <td>php image-processing file-upload upload mime-t...</td>\n",
       "    </tr>\n",
       "    <tr>\n",
       "      <th>1</th>\n",
       "      <td>2</td>\n",
       "      <td>How can I prevent firefox from closing when I ...</td>\n",
       "      <td>&lt;p&gt;In my favorite editor (vim), I regularly us...</td>\n",
       "      <td>firefox</td>\n",
       "    </tr>\n",
       "    <tr>\n",
       "      <th>2</th>\n",
       "      <td>3</td>\n",
       "      <td>R Error Invalid type (list) for variable</td>\n",
       "      <td>&lt;p&gt;I am import matlab file and construct a dat...</td>\n",
       "      <td>r matlab machine-learning</td>\n",
       "    </tr>\n",
       "    <tr>\n",
       "      <th>3</th>\n",
       "      <td>4</td>\n",
       "      <td>How do I replace special characters in a URL?</td>\n",
       "      <td>&lt;p&gt;This is probably very simple, but I simply ...</td>\n",
       "      <td>c# url encoding</td>\n",
       "    </tr>\n",
       "    <tr>\n",
       "      <th>4</th>\n",
       "      <td>5</td>\n",
       "      <td>How to modify whois contact details?</td>\n",
       "      <td>&lt;pre&gt;&lt;code&gt;function modify(.......)\\n{\\n  $mco...</td>\n",
       "      <td>php api file-get-contents</td>\n",
       "    </tr>\n",
       "    <tr>\n",
       "      <th>...</th>\n",
       "      <td>...</td>\n",
       "      <td>...</td>\n",
       "      <td>...</td>\n",
       "      <td>...</td>\n",
       "    </tr>\n",
       "    <tr>\n",
       "      <th>49995</th>\n",
       "      <td>49996</td>\n",
       "      <td>warning: iPad only apps should not include an ...</td>\n",
       "      <td>&lt;p&gt;I am submitting an app and i am getting an ...</td>\n",
       "      <td>ios armv6</td>\n",
       "    </tr>\n",
       "    <tr>\n",
       "      <th>49996</th>\n",
       "      <td>49997</td>\n",
       "      <td>Artefact behind master view controller in spli...</td>\n",
       "      <td>&lt;p&gt;I have a problem on iOS 5.1 with split view...</td>\n",
       "      <td>ios ipad ios5.1</td>\n",
       "    </tr>\n",
       "    <tr>\n",
       "      <th>49997</th>\n",
       "      <td>49998</td>\n",
       "      <td>Sending an UIImage to multiplayer through Game...</td>\n",
       "      <td>&lt;p&gt;I have a UIImage which comes from CGContext...</td>\n",
       "      <td>iphone iphone-sdk-4.0 ios5 xcode4.2 game-center</td>\n",
       "    </tr>\n",
       "    <tr>\n",
       "      <th>49998</th>\n",
       "      <td>49999</td>\n",
       "      <td>Setting Connection attributes for DataDefModel...</td>\n",
       "      <td>&lt;p&gt;How should I modify the below code so that ...</td>\n",
       "      <td>c# .net sql crystal-reports sql-server-express</td>\n",
       "    </tr>\n",
       "    <tr>\n",
       "      <th>49999</th>\n",
       "      <td>50000</td>\n",
       "      <td>What is the difference between pInvoke and COM...</td>\n",
       "      <td>&lt;p&gt;Let us say that I am accessing a third-part...</td>\n",
       "      <td>.net com pinvoke</td>\n",
       "    </tr>\n",
       "  </tbody>\n",
       "</table>\n",
       "<p>50000 rows × 4 columns</p>\n",
       "</div>"
      ],
      "text/plain": [
       "          Id                                              Title  \\\n",
       "0          1  How to check if an uploaded file is an image w...   \n",
       "1          2  How can I prevent firefox from closing when I ...   \n",
       "2          3           R Error Invalid type (list) for variable   \n",
       "3          4      How do I replace special characters in a URL?   \n",
       "4          5               How to modify whois contact details?   \n",
       "...      ...                                                ...   \n",
       "49995  49996  warning: iPad only apps should not include an ...   \n",
       "49996  49997  Artefact behind master view controller in spli...   \n",
       "49997  49998  Sending an UIImage to multiplayer through Game...   \n",
       "49998  49999  Setting Connection attributes for DataDefModel...   \n",
       "49999  50000  What is the difference between pInvoke and COM...   \n",
       "\n",
       "                                                    Body  \\\n",
       "0      <p>I'd like to check if an uploaded file is an...   \n",
       "1      <p>In my favorite editor (vim), I regularly us...   \n",
       "2      <p>I am import matlab file and construct a dat...   \n",
       "3      <p>This is probably very simple, but I simply ...   \n",
       "4      <pre><code>function modify(.......)\\n{\\n  $mco...   \n",
       "...                                                  ...   \n",
       "49995  <p>I am submitting an app and i am getting an ...   \n",
       "49996  <p>I have a problem on iOS 5.1 with split view...   \n",
       "49997  <p>I have a UIImage which comes from CGContext...   \n",
       "49998  <p>How should I modify the below code so that ...   \n",
       "49999  <p>Let us say that I am accessing a third-part...   \n",
       "\n",
       "                                                    Tags  \n",
       "0      php image-processing file-upload upload mime-t...  \n",
       "1                                                firefox  \n",
       "2                              r matlab machine-learning  \n",
       "3                                        c# url encoding  \n",
       "4                              php api file-get-contents  \n",
       "...                                                  ...  \n",
       "49995                                          ios armv6  \n",
       "49996                                    ios ipad ios5.1  \n",
       "49997    iphone iphone-sdk-4.0 ios5 xcode4.2 game-center  \n",
       "49998     c# .net sql crystal-reports sql-server-express  \n",
       "49999                                   .net com pinvoke  \n",
       "\n",
       "[50000 rows x 4 columns]"
      ]
     },
     "execution_count": 80,
     "metadata": {},
     "output_type": "execute_result"
    }
   ],
   "source": [
    "nquestions=50_000\n",
    "df = pd.read_csv('Train.csv', nrows=nquestions)\n",
    "df"
   ]
  },
  {
   "cell_type": "markdown",
   "id": "8927f0f0",
   "metadata": {},
   "source": [
    "## Exploratory Data Analysis"
   ]
  },
  {
   "cell_type": "code",
   "execution_count": 81,
   "id": "24d5a80f",
   "metadata": {},
   "outputs": [],
   "source": [
    "def tags_iter():\n",
    "    return (set(tags.split()) for tags in df['Tags'])"
   ]
  },
  {
   "cell_type": "code",
   "execution_count": 82,
   "id": "0870c8a2",
   "metadata": {},
   "outputs": [],
   "source": [
    "tags_count = {}\n",
    "for tags in tags_iter():\n",
    "    for tag in tags:\n",
    "        tags_count[tag] = tags_count.get(tag, 0) + 1"
   ]
  },
  {
   "cell_type": "code",
   "execution_count": 83,
   "id": "96557b65",
   "metadata": {},
   "outputs": [
    {
     "data": {
      "text/plain": [
       "13892"
      ]
     },
     "execution_count": 83,
     "metadata": {},
     "output_type": "execute_result"
    }
   ],
   "source": [
    "len(tags_count)"
   ]
  },
  {
   "cell_type": "code",
   "execution_count": 84,
   "id": "6d950c4e",
   "metadata": {},
   "outputs": [
    {
     "data": {
      "text/plain": [
       "Text(0.5, 0, 'Number of tags')"
      ]
     },
     "execution_count": 84,
     "metadata": {},
     "output_type": "execute_result"
    },
    {
     "data": {
      "image/png": "[encoded data removed]",
      "text/plain": [
       "<Figure size 432x288 with 1 Axes>"
      ]
     },
     "metadata": {
      "needs_background": "light"
     },
     "output_type": "display_data"
    }
   ],
   "source": [
    "plt.plot(sorted(tags_count.values()))\n",
    "plt.ylabel('Number of appearances')\n",
    "plt.xlabel('Number of tags')"
   ]
  },
  {
   "cell_type": "code",
   "execution_count": 85,
   "id": "17858db6",
   "metadata": {
    "scrolled": true
   },
   "outputs": [
    {
     "data": {
      "text/plain": [
       "['c#',\n",
       " 'java',\n",
       " 'php',\n",
       " 'javascript',\n",
       " 'android',\n",
       " 'jquery',\n",
       " 'c++',\n",
       " 'iphone',\n",
       " 'python',\n",
       " 'asp.net']"
      ]
     },
     "execution_count": 85,
     "metadata": {},
     "output_type": "execute_result"
    }
   ],
   "source": [
    "# Most common tags\n",
    "n_top = 500\n",
    "tags_top_sorted = sorted(tags_count.keys(), key=lambda x: -tags_count[x])[:n_top]\n",
    "tags_top = set(tags_top_sorted)\n",
    "tags_top_sorted[:10]"
   ]
  },
  {
   "cell_type": "code",
   "execution_count": 86,
   "id": "0a70a80f",
   "metadata": {},
   "outputs": [
    {
     "name": "stdout",
     "output_type": "stream",
     "text": [
      "Contains 44844 questions out of 50000\n",
      "Question coverage: 89.688%\n"
     ]
    }
   ],
   "source": [
    "count = 0\n",
    "for tags in tags_iter():\n",
    "    for tag in tags:\n",
    "        if tag in tags_top:\n",
    "            count+=1\n",
    "            break\n",
    "print(f\"Contains {count} questions out of {nquestions}\")\n",
    "print(f\"Question coverage: {100 * count / nquestions}%\")"
   ]
  },
  {
   "cell_type": "markdown",
   "id": "89ccac48",
   "metadata": {},
   "source": [
    "## Build $X_{train}$ and $Y_{train}$"
   ]
  },
  {
   "cell_type": "code",
   "execution_count": 89,
   "id": "300690d1",
   "metadata": {},
   "outputs": [],
   "source": [
    "# Select rows with at least one tag in top\n",
    "mask = df['Tags'].map(\n",
    "    lambda field: any(\n",
    "        # Look if tag is contained in the top\n",
    "        tag in tags_top \\\n",
    "            for tag in field.split()\n",
    "    )\n",
    ")\n",
    "df_train = df[mask]"
   ]
  },
  {
   "cell_type": "markdown",
   "id": "920a8747",
   "metadata": {},
   "source": [
    "### Getting $Y_{train}$"
   ]
  },
  {
   "cell_type": "code",
   "execution_count": 91,
   "id": "c52ee45f",
   "metadata": {},
   "outputs": [],
   "source": [
    "from sklearn.preprocessing import MultiLabelBinarizer"
   ]
  },
  {
   "cell_type": "code",
   "execution_count": 108,
   "id": "e18addb0",
   "metadata": {},
   "outputs": [],
   "source": [
    "mlb = MultiLabelBinarizer()\n",
    "mlb.fit([tags_top])"
   ]
  },
  {
   "cell_type": "code",
   "execution_count": 118,
   "id": "d32c3d0f",
   "metadata": {
    "scrolled": true
   },
   "outputs": [
    {
     "data": {
      "text/plain": [
       "array([[0, 0, 0, ..., 0, 0, 0],\n",
       "       [0, 0, 0, ..., 0, 0, 0],\n",
       "       [0, 0, 0, ..., 0, 0, 0]])"
      ]
     },
     "execution_count": 118,
     "metadata": {},
     "output_type": "execute_result"
    }
   ],
   "source": [
    "# Now mlb can transform list of tags to multilabel format (1,0,...,0,1,0)\n",
    "mlb.transform([\n",
    "    ['c#', 'algorithm'],\n",
    "    ['c++', 'java', 'javascript'],\n",
    "    ['python']\n",
    "])"
   ]
  },
  {
   "cell_type": "code",
   "execution_count": 132,
   "id": "0543e4d2",
   "metadata": {},
   "outputs": [
    {
     "name": "stdout",
     "output_type": "stream",
     "text": [
      "All good: True\n"
     ]
    }
   ],
   "source": [
    "# Convert tags to binarized output\n",
    "Y_train = df_train['Tags'].map(lambda s: s.split())\n",
    "\n",
    "# Ignore unknown class warning since all tag sets contain at least one tag in tag_top\n",
    "Y_train = mlb.transform(Y_train)\n",
    "\n",
    "# Verify all entries contain at least one tag\n",
    "print(f\"All good: {all(np.any(Y_train, axis=1))}\")"
   ]
  },
  {
   "cell_type": "markdown",
   "id": "711175f2",
   "metadata": {},
   "source": [
    "### Getting $X_{train}$"
   ]
  },
  {
   "cell_type": "code",
   "execution_count": 230,
   "id": "1b874ad7",
   "metadata": {},
   "outputs": [],
   "source": [
    "def clean_text(text):\n",
    "    \"\"\"\n",
    "    Normalize format of words, ready to be splitted\n",
    "    \"\"\"\n",
    "    # lowercase\n",
    "    text = text.lower()\n",
    "    text = text.strip()\n",
    "    # Abbreviations\n",
    "    text = re.sub(r\"what's\", \"what is\", text)\n",
    "    text = re.sub(r\"\\'s\", \"\", text)\n",
    "    text = re.sub(r\"\\'ve\", \" have\", text)\n",
    "    text = re.sub(r\"can't\", \"can not\", text)\n",
    "    text = re.sub(r\"n't\", \" not\", text)\n",
    "    text = re.sub(r\"i'm\", \"i am\", text)\n",
    "    text = re.sub(r\"\\'re\", \" are\", text)\n",
    "    text = re.sub(r\"\\'d\", \" would\", text)\n",
    "    text = re.sub(r\"\\'ll\", \" will\", text)\n",
    "    # Delete HTML tags\n",
    "    text = re.sub(\"<(\\\"[^\\\"]*\\\"|'[^']*'|[^'\\\">])*>\", '', text)\n",
    "    # Delete period, comma, quotation, interrogation, admiration\n",
    "    text = re.sub(r'[\\.,\\'\\(\\)\\?!]', '', text)\n",
    "    # Replace slash\n",
    "    text = re.sub(r'/', ' ', text)\n",
    "    # Replace line breaks (and spaces)\n",
    "    text = re.sub(r'\\n+', ' ', text)\n",
    "    \n",
    "    return text"
   ]
  },
  {
   "cell_type": "code",
   "execution_count": 236,
   "id": "aee264b5",
   "metadata": {},
   "outputs": [],
   "source": [
    "def get_words_bag(words):\n",
    "    bag = {}\n",
    "    for wd in words:\n",
    "        ### Ignore empty str\n",
    "        if wd == '': continue\n",
    "        bag[wd] = bag.get(wd, 0) + 1\n",
    "    return bag"
   ]
  },
  {
   "cell_type": "code",
   "execution_count": 232,
   "id": "ff260992",
   "metadata": {},
   "outputs": [],
   "source": [
    "## Append body and title together\n",
    "X_train = (df_train['Body'] + ' ' + df_train['Title'])\n",
    "# Clean text\n",
    "X_train = X_train.map(clean_text)\n",
    "# Split into words\n",
    "X_train = X_train.map(str.split)\n",
    "\n",
    "X_train = X_train.map(get_words_bag)"
   ]
  },
  {
   "cell_type": "code",
   "execution_count": 250,
   "id": "af31f076",
   "metadata": {
    "scrolled": false
   },
   "outputs": [
    {
     "data": {
      "text/plain": [
       "0        {'i': 2, 'would': 1, 'like': 1, 'to': 4, 'chec...\n",
       "1        {'in': 1, 'my': 1, 'favorite': 1, 'editor': 1,...\n",
       "2        {'i': 5, 'am': 2, 'import': 2, 'matlab': 5, 'f...\n",
       "3        {'this': 4, 'is': 3, 'probably': 1, 'very': 1,...\n",
       "4        {'function': 2, 'modify': 4, '{': 1, '$mcontac...\n",
       "                               ...                        \n",
       "49995    {'i': 2, 'am': 2, 'submitting': 1, 'an': 4, 'a...\n",
       "49996    {'i': 6, 'have': 1, 'a': 4, 'problem': 2, 'on'...\n",
       "49997    {'i': 2, 'have': 1, 'a': 1, 'uiimage': 2, 'whi...\n",
       "49998    {'how': 1, 'should': 1, 'i': 2, 'modify': 1, '...\n",
       "49999    {'let': 1, 'us': 1, 'say': 1, 'that': 2, 'i': ...\n",
       "Length: 44844, dtype: object"
      ]
     },
     "execution_count": 250,
     "metadata": {},
     "output_type": "execute_result"
    }
   ],
   "source": [
    "X_train"
   ]
  },
  {
   "cell_type": "code",
   "execution_count": 222,
   "id": "de2c1db0",
   "metadata": {},
   "outputs": [
    {
     "data": {
      "text/plain": [
       "'how to check if an uploaded file is an image without mime type'"
      ]
     },
     "execution_count": 222,
     "metadata": {},
     "output_type": "execute_result"
    }
   ],
   "source": [
    "### TODO:\n",
    "# Get tf-idf of word bags and train"
   ]
  },
  {
   "cell_type": "code",
   "execution_count": null,
   "id": "08cc6c72",
   "metadata": {},
   "outputs": [],
   "source": []
  }
 ],
 "metadata": {
  "kernelspec": {
   "display_name": "Python 3 (ipykernel)",
   "language": "python",
   "name": "python3"
  },
  "language_info": {
   "codemirror_mode": {
    "name": "ipython",
    "version": 3
   },
   "file_extension": ".py",
   "mimetype": "text/x-python",
   "name": "python",
   "nbconvert_exporter": "python",
   "pygments_lexer": "ipython3",
   "version": "3.9.7"
  }
 },
 "nbformat": 4,
 "nbformat_minor": 5
}
