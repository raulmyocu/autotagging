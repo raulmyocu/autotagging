{
 "cells": [
  {
   "cell_type": "markdown",
   "id": "0c6b13e5",
   "metadata": {},
   "source": [
    "## Libraries"
   ]
  },
  {
   "cell_type": "code",
   "execution_count": 1,
   "id": "833189ad",
   "metadata": {},
   "outputs": [],
   "source": [
    "import numpy as np\n",
    "import pandas as pd\n",
    "import seaborn as sns\n",
    "import matplotlib.pyplot as plt"
   ]
  },
  {
   "cell_type": "code",
   "execution_count": 2,
   "id": "8903516c",
   "metadata": {},
   "outputs": [],
   "source": [
    "import re"
   ]
  },
  {
   "cell_type": "markdown",
   "id": "98931583",
   "metadata": {},
   "source": [
    "## Read CSV"
   ]
  },
  {
   "cell_type": "code",
   "execution_count": 3,
   "id": "e2c5c803",
   "metadata": {
    "scrolled": false
   },
   "outputs": [
    {
     "data": {
      "text/html": [
       "<div>\n",
       "<style scoped>\n",
       "    .dataframe tbody tr th:only-of-type {\n",
       "        vertical-align: middle;\n",
       "    }\n",
       "\n",
       "    .dataframe tbody tr th {\n",
       "        vertical-align: top;\n",
       "    }\n",
       "\n",
       "    .dataframe thead th {\n",
       "        text-align: right;\n",
       "    }\n",
       "</style>\n",
       "<table border=\"1\" class=\"dataframe\">\n",
       "  <thead>\n",
       "    <tr style=\"text-align: right;\">\n",
       "      <th></th>\n",
       "      <th>Id</th>\n",
       "      <th>Title</th>\n",
       "      <th>Body</th>\n",
       "      <th>Tags</th>\n",
       "    </tr>\n",
       "  </thead>\n",
       "  <tbody>\n",
       "    <tr>\n",
       "      <th>0</th>\n",
       "      <td>1</td>\n",
       "      <td>How to check if an uploaded file is an image w...</td>\n",
       "      <td>&lt;p&gt;I'd like to check if an uploaded file is an...</td>\n",
       "      <td>php image-processing file-upload upload mime-t...</td>\n",
       "    </tr>\n",
       "    <tr>\n",
       "      <th>1</th>\n",
       "      <td>2</td>\n",
       "      <td>How can I prevent firefox from closing when I ...</td>\n",
       "      <td>&lt;p&gt;In my favorite editor (vim), I regularly us...</td>\n",
       "      <td>firefox</td>\n",
       "    </tr>\n",
       "    <tr>\n",
       "      <th>2</th>\n",
       "      <td>3</td>\n",
       "      <td>R Error Invalid type (list) for variable</td>\n",
       "      <td>&lt;p&gt;I am import matlab file and construct a dat...</td>\n",
       "      <td>r matlab machine-learning</td>\n",
       "    </tr>\n",
       "    <tr>\n",
       "      <th>3</th>\n",
       "      <td>4</td>\n",
       "      <td>How do I replace special characters in a URL?</td>\n",
       "      <td>&lt;p&gt;This is probably very simple, but I simply ...</td>\n",
       "      <td>c# url encoding</td>\n",
       "    </tr>\n",
       "    <tr>\n",
       "      <th>4</th>\n",
       "      <td>5</td>\n",
       "      <td>How to modify whois contact details?</td>\n",
       "      <td>&lt;pre&gt;&lt;code&gt;function modify(.......)\\n{\\n  $mco...</td>\n",
       "      <td>php api file-get-contents</td>\n",
       "    </tr>\n",
       "    <tr>\n",
       "      <th>...</th>\n",
       "      <td>...</td>\n",
       "      <td>...</td>\n",
       "      <td>...</td>\n",
       "      <td>...</td>\n",
       "    </tr>\n",
       "    <tr>\n",
       "      <th>499995</th>\n",
       "      <td>499996</td>\n",
       "      <td>Access a Controller return value in a View</td>\n",
       "      <td>&lt;p&gt;In my controller I have this method&lt;/p&gt;\\n\\n...</td>\n",
       "      <td>php cakephp cakephp-1.3</td>\n",
       "    </tr>\n",
       "    <tr>\n",
       "      <th>499996</th>\n",
       "      <td>499997</td>\n",
       "      <td>css left right column fixed</td>\n",
       "      <td>&lt;p&gt;im working on a 3 column webpage. i would l...</td>\n",
       "      <td>css</td>\n",
       "    </tr>\n",
       "    <tr>\n",
       "      <th>499997</th>\n",
       "      <td>499998</td>\n",
       "      <td>Encryption of Data that should be stored in a ...</td>\n",
       "      <td>&lt;p&gt;I'm new to C# and ASP.NET and I have to do ...</td>\n",
       "      <td>c# asp.net .net encryption key</td>\n",
       "    </tr>\n",
       "    <tr>\n",
       "      <th>499998</th>\n",
       "      <td>499999</td>\n",
       "      <td>Is there a way of switching connectivity on an...</td>\n",
       "      <td>&lt;p&gt;I am planning to start writing some android...</td>\n",
       "      <td>android unit-testing android-emulator automate...</td>\n",
       "    </tr>\n",
       "    <tr>\n",
       "      <th>499999</th>\n",
       "      <td>500000</td>\n",
       "      <td>Enabling Save for an NSDocument</td>\n",
       "      <td>&lt;p&gt;I am using an NSDocumentController subclass...</td>\n",
       "      <td>objective-c cocoa nsdocument</td>\n",
       "    </tr>\n",
       "  </tbody>\n",
       "</table>\n",
       "<p>500000 rows × 4 columns</p>\n",
       "</div>"
      ],
      "text/plain": [
       "            Id                                              Title  \\\n",
       "0            1  How to check if an uploaded file is an image w...   \n",
       "1            2  How can I prevent firefox from closing when I ...   \n",
       "2            3           R Error Invalid type (list) for variable   \n",
       "3            4      How do I replace special characters in a URL?   \n",
       "4            5               How to modify whois contact details?   \n",
       "...        ...                                                ...   \n",
       "499995  499996         Access a Controller return value in a View   \n",
       "499996  499997                        css left right column fixed   \n",
       "499997  499998  Encryption of Data that should be stored in a ...   \n",
       "499998  499999  Is there a way of switching connectivity on an...   \n",
       "499999  500000                    Enabling Save for an NSDocument   \n",
       "\n",
       "                                                     Body  \\\n",
       "0       <p>I'd like to check if an uploaded file is an...   \n",
       "1       <p>In my favorite editor (vim), I regularly us...   \n",
       "2       <p>I am import matlab file and construct a dat...   \n",
       "3       <p>This is probably very simple, but I simply ...   \n",
       "4       <pre><code>function modify(.......)\\n{\\n  $mco...   \n",
       "...                                                   ...   \n",
       "499995  <p>In my controller I have this method</p>\\n\\n...   \n",
       "499996  <p>im working on a 3 column webpage. i would l...   \n",
       "499997  <p>I'm new to C# and ASP.NET and I have to do ...   \n",
       "499998  <p>I am planning to start writing some android...   \n",
       "499999  <p>I am using an NSDocumentController subclass...   \n",
       "\n",
       "                                                     Tags  \n",
       "0       php image-processing file-upload upload mime-t...  \n",
       "1                                                 firefox  \n",
       "2                               r matlab machine-learning  \n",
       "3                                         c# url encoding  \n",
       "4                               php api file-get-contents  \n",
       "...                                                   ...  \n",
       "499995                            php cakephp cakephp-1.3  \n",
       "499996                                                css  \n",
       "499997                     c# asp.net .net encryption key  \n",
       "499998  android unit-testing android-emulator automate...  \n",
       "499999                       objective-c cocoa nsdocument  \n",
       "\n",
       "[500000 rows x 4 columns]"
      ]
     },
     "execution_count": 3,
     "metadata": {},
     "output_type": "execute_result"
    }
   ],
   "source": [
    "nquestions=500_000\n",
    "df = pd.read_csv('Train.csv', nrows=nquestions)\n",
    "df"
   ]
  },
  {
   "cell_type": "markdown",
   "id": "8927f0f0",
   "metadata": {},
   "source": [
    "## Exploratory Data Analysis"
   ]
  },
  {
   "cell_type": "code",
   "execution_count": 4,
   "id": "24d5a80f",
   "metadata": {},
   "outputs": [],
   "source": [
    "def tags_iter():\n",
    "    return (set(tags.split()) for tags in df['Tags'])"
   ]
  },
  {
   "cell_type": "code",
   "execution_count": 5,
   "id": "0870c8a2",
   "metadata": {},
   "outputs": [],
   "source": [
    "tags_count = {}\n",
    "for tags in tags_iter():\n",
    "    for tag in tags:\n",
    "        tags_count[tag] = tags_count.get(tag, 0) + 1"
   ]
  },
  {
   "cell_type": "code",
   "execution_count": 6,
   "id": "96557b65",
   "metadata": {},
   "outputs": [
    {
     "data": {
      "text/plain": [
       "30429"
      ]
     },
     "execution_count": 6,
     "metadata": {},
     "output_type": "execute_result"
    }
   ],
   "source": [
    "len(tags_count)"
   ]
  },
  {
   "cell_type": "code",
   "execution_count": 7,
   "id": "6d950c4e",
   "metadata": {},
   "outputs": [
    {
     "data": {
      "text/plain": [
       "Text(0.5, 0, 'Number of tags')"
      ]
     },
     "execution_count": 7,
     "metadata": {},
     "output_type": "execute_result"
    },
    {
     "data": {
      "image/png": "[encoded data removed]",
      "text/plain": [
       "<Figure size 432x288 with 1 Axes>"
      ]
     },
     "metadata": {
      "needs_background": "light"
     },
     "output_type": "display_data"
    }
   ],
   "source": [
    "plt.plot(sorted(tags_count.values()))\n",
    "plt.ylabel('Number of appearances')\n",
    "plt.xlabel('Number of tags')"
   ]
  },
  {
   "cell_type": "code",
   "execution_count": 8,
   "id": "17858db6",
   "metadata": {
    "scrolled": true
   },
   "outputs": [
    {
     "data": {
      "text/plain": [
       "['c#',\n",
       " 'java',\n",
       " 'php',\n",
       " 'javascript',\n",
       " 'android',\n",
       " 'jquery',\n",
       " 'c++',\n",
       " 'python',\n",
       " 'iphone',\n",
       " 'asp.net']"
      ]
     },
     "execution_count": 8,
     "metadata": {},
     "output_type": "execute_result"
    }
   ],
   "source": [
    "# Most common tags\n",
    "n_top = 200\n",
    "tags_top_sorted = sorted(tags_count.keys(), key=lambda x: -tags_count[x])[:n_top]\n",
    "tags_top = set(tags_top_sorted)\n",
    "tags_top_sorted[:10]"
   ]
  },
  {
   "cell_type": "code",
   "execution_count": 9,
   "id": "0a70a80f",
   "metadata": {},
   "outputs": [
    {
     "name": "stdout",
     "output_type": "stream",
     "text": [
      "Contains 411582 questions out of 500000\n",
      "Question coverage: 82.3164%\n"
     ]
    }
   ],
   "source": [
    "count = 0\n",
    "for tags in tags_iter():\n",
    "    for tag in tags:\n",
    "        if tag in tags_top:\n",
    "            count+=1\n",
    "            break\n",
    "print(f\"Contains {count} questions out of {nquestions}\")\n",
    "print(f\"Question coverage: {100 * count / nquestions}%\")"
   ]
  },
  {
   "cell_type": "markdown",
   "id": "89ccac48",
   "metadata": {},
   "source": [
    "## Build $X_{train}$ and $Y_{train}$"
   ]
  },
  {
   "cell_type": "code",
   "execution_count": 10,
   "id": "300690d1",
   "metadata": {},
   "outputs": [],
   "source": [
    "# Select rows with at least one tag in top\n",
    "mask = df['Tags'].map(\n",
    "    lambda field: any(\n",
    "        # Look if tag is contained in the top\n",
    "        tag in tags_top \\\n",
    "            for tag in field.split()\n",
    "    )\n",
    ")\n",
    "df_train = df[mask]"
   ]
  },
  {
   "cell_type": "markdown",
   "id": "920a8747",
   "metadata": {},
   "source": [
    "### Getting $Y_{train}$"
   ]
  },
  {
   "cell_type": "code",
   "execution_count": 11,
   "id": "c52ee45f",
   "metadata": {},
   "outputs": [],
   "source": [
    "from sklearn.preprocessing import MultiLabelBinarizer"
   ]
  },
  {
   "cell_type": "code",
   "execution_count": 12,
   "id": "e18addb0",
   "metadata": {},
   "outputs": [
    {
     "data": {
      "text/plain": [
       "MultiLabelBinarizer()"
      ]
     },
     "execution_count": 12,
     "metadata": {},
     "output_type": "execute_result"
    }
   ],
   "source": [
    "mlb = MultiLabelBinarizer()\n",
    "mlb.fit([tags_top])"
   ]
  },
  {
   "cell_type": "code",
   "execution_count": 13,
   "id": "d32c3d0f",
   "metadata": {
    "scrolled": true
   },
   "outputs": [
    {
     "data": {
      "text/plain": [
       "array([[0, 0, 0, 0, 0, 1, 0, 0, 0, 0, 0, 0, 0, 0, 0, 0, 0, 0, 0, 0, 1, 0,\n",
       "        0, 0, 0, 0, 0, 0, 0, 0, 0, 0, 0, 0, 0, 0, 0, 0, 0, 0, 0, 0, 0, 0,\n",
       "        0, 0, 0, 0, 0, 0, 0, 0, 0, 0, 0, 0, 0, 0, 0, 0, 0, 0, 0, 0, 0, 0,\n",
       "        0, 0, 0, 0, 0, 0, 0, 0, 0, 0, 0, 0, 0, 0, 0, 0, 0, 0, 0, 0, 0, 0,\n",
       "        0, 0, 0, 0, 0, 0, 0, 0, 0, 0, 0, 0, 0, 0, 0, 0, 0, 0, 0, 0, 0, 0,\n",
       "        0, 0, 0, 0, 0, 0, 0, 0, 0, 0, 0, 0, 0, 0, 0, 0, 0, 0, 0, 0, 0, 0,\n",
       "        0, 0, 0, 0, 0, 0, 0, 0, 0, 0, 0, 0, 0, 0, 0, 0, 0, 0, 0, 0, 0, 0,\n",
       "        0, 0, 0, 0, 0, 0, 0, 0, 0, 0, 0, 0, 0, 0, 0, 0, 0, 0, 0, 0, 0, 0,\n",
       "        0, 0, 0, 0, 0, 0, 0, 0, 0, 0, 0, 0, 0, 0, 0, 0, 0, 0, 0, 0, 0, 0,\n",
       "        0, 0],\n",
       "       [0, 0, 0, 0, 0, 0, 0, 0, 0, 0, 0, 0, 0, 0, 0, 0, 0, 0, 0, 0, 0, 0,\n",
       "        1, 0, 0, 0, 0, 0, 0, 0, 0, 0, 0, 0, 0, 0, 0, 0, 0, 0, 0, 0, 0, 0,\n",
       "        0, 0, 0, 0, 0, 0, 0, 0, 0, 0, 0, 0, 0, 0, 0, 0, 0, 0, 0, 0, 0, 0,\n",
       "        0, 0, 0, 0, 0, 0, 0, 0, 0, 0, 0, 0, 0, 0, 0, 0, 0, 1, 0, 1, 0, 0,\n",
       "        0, 0, 0, 0, 0, 0, 0, 0, 0, 0, 0, 0, 0, 0, 0, 0, 0, 0, 0, 0, 0, 0,\n",
       "        0, 0, 0, 0, 0, 0, 0, 0, 0, 0, 0, 0, 0, 0, 0, 0, 0, 0, 0, 0, 0, 0,\n",
       "        0, 0, 0, 0, 0, 0, 0, 0, 0, 0, 0, 0, 0, 0, 0, 0, 0, 0, 0, 0, 0, 0,\n",
       "        0, 0, 0, 0, 0, 0, 0, 0, 0, 0, 0, 0, 0, 0, 0, 0, 0, 0, 0, 0, 0, 0,\n",
       "        0, 0, 0, 0, 0, 0, 0, 0, 0, 0, 0, 0, 0, 0, 0, 0, 0, 0, 0, 0, 0, 0,\n",
       "        0, 0],\n",
       "       [0, 0, 0, 0, 0, 0, 0, 0, 0, 0, 0, 0, 0, 0, 0, 0, 0, 0, 0, 0, 0, 0,\n",
       "        0, 0, 0, 0, 0, 0, 0, 0, 0, 0, 0, 0, 0, 0, 0, 0, 0, 0, 0, 0, 0, 0,\n",
       "        0, 0, 0, 0, 0, 0, 0, 0, 0, 0, 0, 0, 0, 0, 0, 0, 0, 0, 0, 0, 0, 0,\n",
       "        0, 0, 0, 0, 0, 0, 0, 0, 0, 0, 0, 0, 0, 0, 0, 0, 0, 0, 0, 0, 0, 0,\n",
       "        0, 0, 0, 0, 0, 0, 0, 0, 0, 0, 0, 0, 0, 0, 0, 0, 0, 0, 0, 0, 0, 0,\n",
       "        0, 0, 0, 0, 0, 0, 0, 0, 0, 0, 0, 0, 0, 0, 0, 0, 0, 0, 0, 0, 0, 1,\n",
       "        0, 0, 0, 0, 0, 0, 0, 0, 0, 0, 0, 0, 0, 0, 0, 0, 0, 0, 0, 0, 0, 0,\n",
       "        0, 0, 0, 0, 0, 0, 0, 0, 0, 0, 0, 0, 0, 0, 0, 0, 0, 0, 0, 0, 0, 0,\n",
       "        0, 0, 0, 0, 0, 0, 0, 0, 0, 0, 0, 0, 0, 0, 0, 0, 0, 0, 0, 0, 0, 0,\n",
       "        0, 0]])"
      ]
     },
     "execution_count": 13,
     "metadata": {},
     "output_type": "execute_result"
    }
   ],
   "source": [
    "# Now mlb can transform list of tags to multilabel format (1,0,...,0,1,0)\n",
    "mlb.transform([\n",
    "    ['c#', 'algorithm'],\n",
    "    ['c++', 'java', 'javascript'],\n",
    "    ['python']\n",
    "])"
   ]
  },
  {
   "cell_type": "code",
   "execution_count": 14,
   "id": "0543e4d2",
   "metadata": {
    "scrolled": true
   },
   "outputs": [
    {
     "name": "stdout",
     "output_type": "stream",
     "text": [
      "All good: True\n"
     ]
    }
   ],
   "source": [
    "# Convert tags to binarized output\n",
    "Y_train = df_train['Tags'].map(lambda s: s.split())\n",
    "\n",
    "# Ignore unknown class warning since all tag sets contain at least one tag in tag_top\n",
    "Y_train = mlb.transform(Y_train)\n",
    "\n",
    "# Verify all entries contain at least one tag\n",
    "print(f\"All good: {all(np.any(Y_train, axis=1))}\")"
   ]
  },
  {
   "cell_type": "markdown",
   "id": "711175f2",
   "metadata": {},
   "source": [
    "### Getting $X_{train}$"
   ]
  },
  {
   "cell_type": "code",
   "execution_count": 15,
   "id": "1b874ad7",
   "metadata": {},
   "outputs": [],
   "source": [
    "def clean_text(text):\n",
    "    \"\"\"\n",
    "    Normalize format of words, ready to be splitted\n",
    "    \"\"\"\n",
    "    # lowercase\n",
    "    text = text.lower()\n",
    "    text = text.strip()\n",
    "    # Abbreviations\n",
    "    text = re.sub(r\"what's\", \"what is\", text)\n",
    "    text = re.sub(r\"\\'s\", \"\", text)\n",
    "    text = re.sub(r\"\\'ve\", \" have\", text)\n",
    "    text = re.sub(r\"can't\", \"can not\", text)\n",
    "    text = re.sub(r\"n't\", \" not\", text)\n",
    "    text = re.sub(r\"i'm\", \"i am\", text)\n",
    "    text = re.sub(r\"\\'re\", \" are\", text)\n",
    "    text = re.sub(r\"\\'d\", \" would\", text)\n",
    "    text = re.sub(r\"\\'ll\", \" will\", text)\n",
    "    # Delete numbers\n",
    "    text = re.sub(r\"[0-9]+\", \" \", text)\n",
    "    # HTML sequences\n",
    "    text = re.sub(r\"&lt\", \" less than \", text)\n",
    "    text = re.sub(r\"&gt\", \" greater than \", text)\n",
    "    text = re.sub(r\"=\", \" equal \", text)\n",
    "    # Delete HTML tags\n",
    "    text = re.sub(\"<(\\\"[^\\\"]*\\\"|'[^']*'|[^'\\\">])*>\", '', text)\n",
    "    # Delete period, comma, quotation, interrogation, admiration\n",
    "    text = re.sub(r'[\\.,\\'\\(\\)\\?!\\[\\]:\\\"\\-~_]', ' ', text)\n",
    "    # Replace slash\n",
    "    text = re.sub(r'/', ' ', text)\n",
    "    # Replace line breaks (and spaces)\n",
    "    text = re.sub(r'\\n+', ' ', text)\n",
    "    \n",
    "    return text"
   ]
  },
  {
   "cell_type": "code",
   "execution_count": 16,
   "id": "ff260992",
   "metadata": {},
   "outputs": [],
   "source": [
    "## Append body and title together\n",
    "X_train_texts = (df_train['Body'] + ' ' + df_train['Title'])\n",
    "# Clean text\n",
    "X_train_texts = X_train_texts.map(clean_text)"
   ]
  },
  {
   "cell_type": "code",
   "execution_count": 17,
   "id": "751a7e92",
   "metadata": {},
   "outputs": [],
   "source": [
    "from sklearn.feature_extraction.text import TfidfVectorizer"
   ]
  },
  {
   "cell_type": "code",
   "execution_count": 18,
   "id": "4ae7282d",
   "metadata": {},
   "outputs": [],
   "source": [
    "tfidf = TfidfVectorizer(stop_words='english', max_features=2_000, binary=True)"
   ]
  },
  {
   "cell_type": "code",
   "execution_count": 19,
   "id": "823cb6b6",
   "metadata": {},
   "outputs": [],
   "source": [
    "X_train = tfidf.fit_transform(X_train_texts)"
   ]
  },
  {
   "cell_type": "code",
   "execution_count": 20,
   "id": "44ed7867",
   "metadata": {},
   "outputs": [],
   "source": [
    "with open('feat_names.txt', 'w') as f:\n",
    "    for c in tfidf.get_feature_names_out():\n",
    "        f.write(c)\n",
    "        f.write('\\n')"
   ]
  },
  {
   "cell_type": "markdown",
   "id": "6f2a4296",
   "metadata": {},
   "source": [
    "## Building model"
   ]
  },
  {
   "cell_type": "code",
   "execution_count": 177,
   "id": "de2c1db0",
   "metadata": {},
   "outputs": [],
   "source": [
    "from sklearn.multiclass import OneVsRestClassifier\n",
    "from sklearn.linear_model import LogisticRegression"
   ]
  },
  {
   "cell_type": "code",
   "execution_count": 179,
   "id": "1ad11be1",
   "metadata": {},
   "outputs": [],
   "source": [
    "clf = OneVsRestClassifier(LogisticRegression(solver='sag'), n_jobs=3)"
   ]
  },
  {
   "cell_type": "markdown",
   "id": "ca01d466",
   "metadata": {},
   "source": [
    "### Training"
   ]
  },
  {
   "cell_type": "code",
   "execution_count": 180,
   "id": "5b185d46",
   "metadata": {},
   "outputs": [
    {
     "data": {
      "text/plain": [
       "OneVsRestClassifier(estimator=LogisticRegression(solver='sag'), n_jobs=3)"
      ]
     },
     "execution_count": 180,
     "metadata": {},
     "output_type": "execute_result"
    }
   ],
   "source": [
    "clf.fit(X_train, Y_train)"
   ]
  },
  {
   "cell_type": "markdown",
   "id": "44815956",
   "metadata": {},
   "source": [
    "## Testing the model"
   ]
  },
  {
   "cell_type": "code",
   "execution_count": 22,
   "id": "6f491eca",
   "metadata": {},
   "outputs": [],
   "source": [
    "class TFIDFAutotagger:\n",
    "    def __init__(self, mlb, vectorizer, clf, ntop=5):\n",
    "        self.mlb = mlb\n",
    "        self.vectorizer = vectorizer\n",
    "        self.clf = clf\n",
    "        self.ntop = ntop\n",
    "        self.ids_to_results = MultiLabelBinarizer()\n",
    "        self.ids_to_results.fit([range(n_top)])\n",
    "    \n",
    "    def _preprocess(self, texts):\n",
    "        return self.vectorizer.transform(texts)\n",
    "    \n",
    "    def _classify(self, inp):\n",
    "        return self.clf.predict_proba(inp)\n",
    "    \n",
    "    def _postprocess(self, results):\n",
    "        return self.mlb.inverse_transform(results)\n",
    "    \n",
    "    def _get_top(self, results_probs):\n",
    "        return np.argpartition(results_probs, -self.ntop)[:, -self.ntop:]\n",
    "    \n",
    "    def __call__(self, texts):\n",
    "        vec_inp = self._preprocess(texts)\n",
    "        #print(vec_inp)\n",
    "        probs_list = self._classify(vec_inp)\n",
    "        #print(probs_list)\n",
    "        ids = self._get_top(probs_list)\n",
    "        #print(ids)\n",
    "        results = self.ids_to_results.transform(ids)\n",
    "        #print(results)\n",
    "        tags = self._postprocess(results)\n",
    "        #print(tags)\n",
    "        \n",
    "        return tags"
   ]
  },
  {
   "cell_type": "code",
   "execution_count": 235,
   "id": "029fa073",
   "metadata": {},
   "outputs": [],
   "source": [
    "tfidf_tagger = TFIDFAutotagger(mlb, tfidf, clf)"
   ]
  },
  {
   "cell_type": "code",
   "execution_count": 236,
   "id": "a6501908",
   "metadata": {
    "scrolled": true
   },
   "outputs": [
    {
     "data": {
      "text/plain": [
       "[('c', 'c#', 'c++', 'iphone', 'objective-c')]"
      ]
     },
     "execution_count": 236,
     "metadata": {},
     "output_type": "execute_result"
    }
   ],
   "source": [
    "tfidf_tagger([\"Help with my c++ code, im having a hard time trying to do a for loop and getting a syntax error\"])"
   ]
  },
  {
   "cell_type": "markdown",
   "id": "b4ec93aa",
   "metadata": {},
   "source": [
    "#### Save and load model"
   ]
  },
  {
   "cell_type": "code",
   "execution_count": 272,
   "id": "09852c4a",
   "metadata": {},
   "outputs": [],
   "source": [
    "import pickle\n",
    "\n",
    "# Save to file in the current working directory\n",
    "pkl_filename = \"pickle_model.pkl\"\n",
    "with open(pkl_filename, 'wb') as file:\n",
    "    pickle.dump(tfidf_tagger, file)"
   ]
  },
  {
   "cell_type": "code",
   "execution_count": 23,
   "id": "0c7d224d",
   "metadata": {},
   "outputs": [],
   "source": [
    "import pickle\n",
    "\n",
    "# Load from file\n",
    "pkl_filename = \"pickle_model.pkl\"\n",
    "with open(pkl_filename, 'rb') as file:\n",
    "    tfidf_tagger = pickle.load(file)"
   ]
  },
  {
   "cell_type": "markdown",
   "id": "b9ffa174",
   "metadata": {},
   "source": [
    "## Getting more precise results with Zero-Shot Text Classification"
   ]
  },
  {
   "cell_type": "code",
   "execution_count": 24,
   "id": "ea7414bb",
   "metadata": {},
   "outputs": [],
   "source": [
    "from transformers import pipeline"
   ]
  },
  {
   "cell_type": "code",
   "execution_count": 25,
   "id": "ac4cf8d8",
   "metadata": {},
   "outputs": [],
   "source": [
    "class Autotagger:\n",
    "    task = \"zero-shot-classification\" \n",
    "    model = \"facebook/bart-large-mnli\" \n",
    "    \n",
    "    def __init__(self, tf_idf_clf):\n",
    "        self.zero_shot_clf = pipeline(self.task, self.model)\n",
    "        self.tf_idf_clf = tf_idf_clf\n",
    "    \n",
    "    def predict(self, text):\n",
    "        tags = self.tf_idf_clf([text])[0]\n",
    "        return self.zero_shot_clf(text, tags)\n",
    "    "
   ]
  },
  {
   "cell_type": "code",
   "execution_count": 26,
   "id": "5e654693",
   "metadata": {
    "scrolled": true
   },
   "outputs": [
    {
     "data": {
      "application/vnd.jupyter.widget-view+json": {
       "model_id": "486b7e9382774cbe9efeb51fbe3dc312",
       "version_major": 2,
       "version_minor": 0
      },
      "text/plain": [
       "Downloading:   0%|          | 0.00/1.13k [00:00<?, ?B/s]"
      ]
     },
     "metadata": {},
     "output_type": "display_data"
    },
    {
     "data": {
      "application/vnd.jupyter.widget-view+json": {
       "model_id": "ff70deb2a4d049439a8891e98e34159e",
       "version_major": 2,
       "version_minor": 0
      },
      "text/plain": [
       "Downloading:   0%|          | 0.00/1.52G [00:00<?, ?B/s]"
      ]
     },
     "metadata": {},
     "output_type": "display_data"
    },
    {
     "data": {
      "application/vnd.jupyter.widget-view+json": {
       "model_id": "26f67c6e932a44f5b2cbefa71ec25d1e",
       "version_major": 2,
       "version_minor": 0
      },
      "text/plain": [
       "Downloading:   0%|          | 0.00/26.0 [00:00<?, ?B/s]"
      ]
     },
     "metadata": {},
     "output_type": "display_data"
    },
    {
     "data": {
      "application/vnd.jupyter.widget-view+json": {
       "model_id": "afbb04c19bb34762b4fbdb788cb5dacc",
       "version_major": 2,
       "version_minor": 0
      },
      "text/plain": [
       "Downloading:   0%|          | 0.00/878k [00:00<?, ?B/s]"
      ]
     },
     "metadata": {},
     "output_type": "display_data"
    },
    {
     "data": {
      "application/vnd.jupyter.widget-view+json": {
       "model_id": "dd46ab33934e4d2c90c65ad13e8ebfe0",
       "version_major": 2,
       "version_minor": 0
      },
      "text/plain": [
       "Downloading:   0%|          | 0.00/446k [00:00<?, ?B/s]"
      ]
     },
     "metadata": {},
     "output_type": "display_data"
    },
    {
     "data": {
      "application/vnd.jupyter.widget-view+json": {
       "model_id": "63c9f9e4717945bc9b940c5c74251ba6",
       "version_major": 2,
       "version_minor": 0
      },
      "text/plain": [
       "Downloading:   0%|          | 0.00/1.29M [00:00<?, ?B/s]"
      ]
     },
     "metadata": {},
     "output_type": "display_data"
    }
   ],
   "source": [
    "tagger = Autotagger(tfidf_tagger)"
   ]
  },
  {
   "cell_type": "code",
   "execution_count": 28,
   "id": "d5f71087",
   "metadata": {},
   "outputs": [
    {
     "data": {
      "text/plain": [
       "{'sequence': 'Help with my c++ code',\n",
       " 'labels': ['c++', 'c', 'objective-c', 'c#', 'iphone'],\n",
       " 'scores': [0.7897552251815796,\n",
       "  0.1451275646686554,\n",
       "  0.05567922070622444,\n",
       "  0.0049303388223052025,\n",
       "  0.00450770603492856]}"
      ]
     },
     "execution_count": 28,
     "metadata": {},
     "output_type": "execute_result"
    }
   ],
   "source": [
    "tagger.predict(\"Help with my c++ code\")"
   ]
  },
  {
   "cell_type": "code",
   "execution_count": null,
   "id": "1f412a50",
   "metadata": {},
   "outputs": [],
   "source": []
  }
 ],
 "metadata": {
  "kernelspec": {
   "display_name": "Python 3 (ipykernel)",
   "language": "python",
   "name": "python3"
  },
  "language_info": {
   "codemirror_mode": {
    "name": "ipython",
    "version": 3
   },
   "file_extension": ".py",
   "mimetype": "text/x-python",
   "name": "python",
   "nbconvert_exporter": "python",
   "pygments_lexer": "ipython3",
   "version": "3.9.7"
  }
 },
 "nbformat": 4,
 "nbformat_minor": 5
}
